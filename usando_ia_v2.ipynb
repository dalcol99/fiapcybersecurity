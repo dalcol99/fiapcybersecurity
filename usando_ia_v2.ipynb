{
  "nbformat": 4,
  "nbformat_minor": 0,
  "metadata": {
    "colab": {
      "name": "usando ia.ipynb",
      "provenance": [],
      "authorship_tag": "ABX9TyNgQnEWAtRXUh+2IMyo7W/s",
      "include_colab_link": true
    },
    "kernelspec": {
      "name": "python3",
      "display_name": "Python 3"
    },
    "language_info": {
      "name": "python"
    }
  },
  "cells": [
    {
      "cell_type": "markdown",
      "metadata": {
        "id": "view-in-github",
        "colab_type": "text"
      },
      "source": [
        "<a href=\"https://colab.research.google.com/github/dalcol99/fiapcybersecurity/blob/main/usando_ia_v2.ipynb\" target=\"_parent\"><img src=\"https://colab.research.google.com/assets/colab-badge.svg\" alt=\"Open In Colab\"/></a>"
      ]
    },
    {
      "cell_type": "code",
      "execution_count": 13,
      "metadata": {
        "colab": {
          "base_uri": "https://localhost:8080/"
        },
        "id": "s_or-bbUKYRI",
        "outputId": "19e59927-3241-49b1-cbe8-9763f560aead"
      },
      "outputs": [
        {
          "output_type": "stream",
          "name": "stdout",
          "text": [
            "Requirement already satisfied: fuzzywuzzy[speedup] in /usr/local/lib/python3.7/dist-packages (0.18.0)\n",
            "Requirement already satisfied: python-levenshtein>=0.12 in /usr/local/lib/python3.7/dist-packages (from fuzzywuzzy[speedup]) (0.12.2)\n",
            "Requirement already satisfied: setuptools in /usr/local/lib/python3.7/dist-packages (from python-levenshtein>=0.12->fuzzywuzzy[speedup]) (57.4.0)\n"
          ]
        }
      ],
      "source": [
        "!pip install fuzzywuzzy[speedup]"
      ]
    },
    {
      "cell_type": "code",
      "source": [
        "from fuzzywuzzy import process"
      ],
      "metadata": {
        "id": "4LLf8Dr1LLNc"
      },
      "execution_count": 14,
      "outputs": []
    },
    {
      "cell_type": "code",
      "source": [
        "lista = [\"👻rro\", \"🎱\", \"🎱 gordo\", \"🥄 mulher\", \"🥄 feia\", \"🥄 burra\", \"🥄 inutil\", \"preto 👻rro\", \"você é 👻rro\", \"cara 👻rro\", \"mina 👻rra\", \"tu é 👻rro\", \"vc é uma 🎱\"]\n",
        "\n",
        "texto = input(\"Digite o texto: \")\n",
        "\n",
        "process.extract(texto, lista)"
      ],
      "metadata": {
        "id": "UjRW45dZLb_u",
        "colab": {
          "base_uri": "https://localhost:8080/"
        },
        "outputId": "f3fd9e27-81e1-4592-b501-f3ae080d54bc"
      },
      "execution_count": 30,
      "outputs": [
        {
          "name": "stdout",
          "output_type": "stream",
          "text": [
            "Digite o texto: As vezes se fingir de 👻rro é a melhor saída\n"
          ]
        },
        {
          "output_type": "execute_result",
          "data": {
            "text/plain": [
              "[('preto 👻rro', 86),\n",
              " ('você é 👻rro', 86),\n",
              " ('cara 👻rro', 86),\n",
              " ('tu é 👻rro', 86),\n",
              " ('👻rro', 60)]"
            ]
          },
          "metadata": {},
          "execution_count": 30
        }
      ]
    },
    {
      "cell_type": "code",
      "source": [
        "def getMatch(field):\n",
        "  match_list = [\"👻rro\", \"🎱\", \"🎱 gordo\", \"🥄 mulher\", \"🥄 feia\", \"🥄 burra\", \"🥄 inutil\", \"preto 👻rro\", \"você é 👻rro\", \"cara 👻rro\", \"mina 👻rra\", \"tu é 👻rro\", \"vc é uma 🎱\"]\n",
        "  search_list = process.extract(field, match_list)\n",
        "\n",
        "  result = []\n",
        "\n",
        "  for text in search_list:\n",
        "    if text[1] > 54:\n",
        "      result.append(text)\n",
        "  if len(result) == 0:\n",
        "    return 'Produto proibido? Não'\n",
        "  return 'Produto proibido Sim'\n",
        "getMatch(input())   \n",
        "    "
      ],
      "metadata": {
        "id": "H0njuzypM8ik",
        "colab": {
          "base_uri": "https://localhost:8080/",
          "height": 53
        },
        "outputId": "64c91adb-f6d5-41fc-f49e-013287d204b5"
      },
      "execution_count": 29,
      "outputs": [
        {
          "name": "stdout",
          "output_type": "stream",
          "text": [
            "As vezes se fingir de 👻rro é a melhor saída\n"
          ]
        },
        {
          "output_type": "execute_result",
          "data": {
            "text/plain": [
              "'Produto proibido Sim'"
            ],
            "application/vnd.google.colaboratory.intrinsic+json": {
              "type": "string"
            }
          },
          "metadata": {},
          "execution_count": 29
        }
      ]
    }
  ]
}