{
  "nbformat": 4,
  "nbformat_minor": 0,
  "metadata": {
    "colab": {
      "name": "Palavras.ipynb",
      "provenance": [],
      "collapsed_sections": [],
      "authorship_tag": "ABX9TyMWjVp/2D0mr1Vaxy8ue0xQ",
      "include_colab_link": true
    },
    "kernelspec": {
      "name": "python3",
      "display_name": "Python 3"
    },
    "language_info": {
      "name": "python"
    }
  },
  "cells": [
    {
      "cell_type": "markdown",
      "metadata": {
        "id": "view-in-github",
        "colab_type": "text"
      },
      "source": [
        "<a href=\"https://colab.research.google.com/github/dalcol99/fiapcybersecurity/blob/main/Palavrasv1.ipynb\" target=\"_parent\"><img src=\"https://colab.research.google.com/assets/colab-badge.svg\" alt=\"Open In Colab\"/></a>"
      ]
    },
    {
      "cell_type": "markdown",
      "source": [
        "Ofença \"Emojiva\""
      ],
      "metadata": {
        "id": "gjFsNuCnFTgU"
      }
    },
    {
      "cell_type": "code",
      "source": [
        "import re"
      ],
      "metadata": {
        "id": "odrwp5uH3h24"
      },
      "execution_count": null,
      "outputs": []
    },
    {
      "cell_type": "code",
      "source": [
        "#  👻rro, 🎱, 🎱 gordo, bola 8, 🥄 mulher, , g0rd0 burr0, f3ia, \n",
        "# 🥄 feia, 🥄 burra, 🥄 inutil, preto 👻rro, você é 👻rro, cara 👻rro, mina 👻rra, tu é 👻rro, vc é uma 🎱"
      ],
      "metadata": {
        "id": "UfoFXMFFFXBz"
      },
      "execution_count": null,
      "outputs": []
    },
    {
      "cell_type": "code",
      "source": [
        "lista = [\"👻rro\", \"🎱\", \"🎱 gordo\", \"🥄 mulher\", \"🥄 feia\", \"🥄 burra\", \"🥄 inutil\", \"preto 👻rro\", \"você é 👻rro\", \"cara 👻rro\", \"mina 👻rra\", \"tu é 👻rro\", \"vc é uma 🎱\"]\n",
        "texto = input()\n",
        "if(texto in lista):\n",
        "  print(\"Item proibido\")\n",
        "else:\n",
        "  print(\"Item permitido\")"
      ],
      "metadata": {
        "colab": {
          "base_uri": "https://localhost:8080/"
        },
        "id": "LxkLCwM_zCPy",
        "outputId": "52f4e5fd-7e7e-4beb-a47e-9ed62b5b75da"
      },
      "execution_count": null,
      "outputs": [
        {
          "output_type": "stream",
          "name": "stdout",
          "text": [
            "🎱\n",
            "Item proibido\n"
          ]
        }
      ]
    },
    {
      "cell_type": "code",
      "source": [
        "def getMatchRegex(field):\n",
        "    match = re.search('(?i)(👻rro)|(🎱 gordo)|(🥄 mulher))|(🥄 feia)|(🥄 burra)|(🥄 inutil)|(preto 👻rro)|(você é 👻rro)|(cara 👻rro)|(mina 👻rra)|(tu é 👻rro)|(vc é uma 🎱)', field.lower())\n",
        "\n",
        "    if match: \n",
        "      print('Item proibido? SIM')\n",
        "    else:\n",
        "      print('Item permitido? NÃO')\n",
        "\n",
        "getMatchRegex(input())"
      ],
      "metadata": {
        "colab": {
          "base_uri": "https://localhost:8080/"
        },
        "id": "YxZkobbO5NQM",
        "outputId": "925f864b-5f40-43ac-ef1a-367e6c9e1bef"
      },
      "execution_count": null,
      "outputs": [
        {
          "output_type": "stream",
          "name": "stdout",
          "text": [
            "Que cachorro 🎱 fofo\n",
            "Item permitido? NÃO\n"
          ]
        }
      ]
    }
  ]
}